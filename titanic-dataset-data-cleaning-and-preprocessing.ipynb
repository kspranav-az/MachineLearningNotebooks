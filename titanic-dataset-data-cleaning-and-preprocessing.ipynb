{
 "cells": [
  {
   "cell_type": "code",
   "execution_count": 1,
   "id": "37d1e77f",
   "metadata": {
    "_cell_guid": "b1076dfc-b9ad-4769-8c92-a6c4dae69d19",
    "_uuid": "8f2839f25d086af736a60e9eeb907d3b93b6e0e5",
    "execution": {
     "iopub.execute_input": "2025-04-28T06:37:51.487644Z",
     "iopub.status.busy": "2025-04-28T06:37:51.487332Z",
     "iopub.status.idle": "2025-04-28T06:37:53.320387Z",
     "shell.execute_reply": "2025-04-28T06:37:53.319435Z"
    },
    "papermill": {
     "duration": 1.839922,
     "end_time": "2025-04-28T06:37:53.321826",
     "exception": false,
     "start_time": "2025-04-28T06:37:51.481904",
     "status": "completed"
    },
    "tags": []
   },
   "outputs": [
    {
     "name": "stdout",
     "output_type": "stream",
     "text": [
      "/kaggle/input/titanic-dataset/Titanic-Dataset.csv\n"
     ]
    }
   ],
   "source": [
    "# This Python 3 environment comes with many helpful analytics libraries installed\n",
    "# It is defined by the kaggle/python Docker image: https://github.com/kaggle/docker-python\n",
    "# For example, here's several helpful packages to load\n",
    "\n",
    "import numpy as np # linear algebra\n",
    "import pandas as pd # data processing, CSV file I/O (e.g. pd.read_csv)\n",
    "\n",
    "# Input data files are available in the read-only \"../input/\" directory\n",
    "# For example, running this (by clicking run or pressing Shift+Enter) will list all files under the input directory\n",
    "\n",
    "import os\n",
    "for dirname, _, filenames in os.walk('/kaggle/input'):\n",
    "    for filename in filenames:\n",
    "        print(os.path.join(dirname, filename))\n",
    "\n",
    "# You can write up to 20GB to the current directory (/kaggle/working/) that gets preserved as output when you create a version using \"Save & Run All\" \n",
    "# You can also write temporary files to /kaggle/temp/, but they won't be saved outside of the current session"
   ]
  },
  {
   "cell_type": "markdown",
   "id": "5fd662fd",
   "metadata": {
    "papermill": {
     "duration": 0.003421,
     "end_time": "2025-04-28T06:37:53.329339",
     "exception": false,
     "start_time": "2025-04-28T06:37:53.325918",
     "status": "completed"
    },
    "tags": []
   },
   "source": [
    "# Data Cleaning and Preprocessing \n",
    "\n"
   ]
  },
  {
   "cell_type": "code",
   "execution_count": 2,
   "id": "d2fb7a6d",
   "metadata": {
    "execution": {
     "iopub.execute_input": "2025-04-28T06:37:53.338280Z",
     "iopub.status.busy": "2025-04-28T06:37:53.337498Z",
     "iopub.status.idle": "2025-04-28T06:37:55.764022Z",
     "shell.execute_reply": "2025-04-28T06:37:55.763048Z"
    },
    "papermill": {
     "duration": 2.432874,
     "end_time": "2025-04-28T06:37:55.765930",
     "exception": false,
     "start_time": "2025-04-28T06:37:53.333056",
     "status": "completed"
    },
    "tags": []
   },
   "outputs": [],
   "source": [
    "import pandas as pd\n",
    "import numpy as np\n",
    "import matplotlib.pyplot as plt\n",
    "import seaborn as sns\n",
    "\n",
    "from sklearn.preprocessing import LabelEncoder, RobustScaler\n",
    "from sklearn.impute import SimpleImputer\n",
    "from sklearn.ensemble import IsolationForest\n",
    "from sklearn.model_selection import train_test_split\n",
    "import joblib\n",
    "\n",
    "import warnings\n",
    "warnings.filterwarnings('ignore')\n"
   ]
  },
  {
   "cell_type": "markdown",
   "id": "57578547",
   "metadata": {
    "papermill": {
     "duration": 0.003426,
     "end_time": "2025-04-28T06:37:55.773149",
     "exception": false,
     "start_time": "2025-04-28T06:37:55.769723",
     "status": "completed"
    },
    "tags": []
   },
   "source": [
    "## Step 1: Load and Explore the Raw Data\n",
    "We first load the dataset and check the basic statistics and missing values.\n"
   ]
  },
  {
   "cell_type": "code",
   "execution_count": 3,
   "id": "a043c678",
   "metadata": {
    "execution": {
     "iopub.execute_input": "2025-04-28T06:37:55.781525Z",
     "iopub.status.busy": "2025-04-28T06:37:55.781115Z",
     "iopub.status.idle": "2025-04-28T06:37:55.818023Z",
     "shell.execute_reply": "2025-04-28T06:37:55.816744Z"
    },
    "papermill": {
     "duration": 0.042931,
     "end_time": "2025-04-28T06:37:55.819575",
     "exception": false,
     "start_time": "2025-04-28T06:37:55.776644",
     "status": "completed"
    },
    "tags": []
   },
   "outputs": [
    {
     "name": "stdout",
     "output_type": "stream",
     "text": [
      "(891, 12)\n",
      "PassengerId      int64\n",
      "Survived         int64\n",
      "Pclass           int64\n",
      "Name            object\n",
      "Sex             object\n",
      "Age            float64\n",
      "SibSp            int64\n",
      "Parch            int64\n",
      "Ticket          object\n",
      "Fare           float64\n",
      "Cabin           object\n",
      "Embarked        object\n",
      "dtype: object\n",
      "Cabin          0.771044\n",
      "Age            0.198653\n",
      "Embarked       0.002245\n",
      "PassengerId    0.000000\n",
      "Survived       0.000000\n",
      "Pclass         0.000000\n",
      "Name           0.000000\n",
      "Sex            0.000000\n",
      "SibSp          0.000000\n",
      "Parch          0.000000\n",
      "Ticket         0.000000\n",
      "Fare           0.000000\n",
      "dtype: float64\n"
     ]
    }
   ],
   "source": [
    "# Load\n",
    "raw_df = pd.read_csv('/kaggle/input/titanic-dataset/Titanic-Dataset.csv')\n",
    "df = pd.read_csv('/kaggle/input/titanic-dataset/Titanic-Dataset.csv')\n",
    "\n",
    "# Explore\n",
    "print(df.shape)\n",
    "print(df.dtypes)\n",
    "print(df.isnull().mean().sort_values(ascending=False))\n"
   ]
  },
  {
   "cell_type": "markdown",
   "id": "2f2a95a0",
   "metadata": {
    "papermill": {
     "duration": 0.003519,
     "end_time": "2025-04-28T06:37:55.827107",
     "exception": false,
     "start_time": "2025-04-28T06:37:55.823588",
     "status": "completed"
    },
    "tags": []
   },
   "source": [
    "## Step 2: Visualize Missing Values\n",
    "We plot the missing value heatmap to visually see where missingness exists.\n"
   ]
  },
  {
   "cell_type": "code",
   "execution_count": 4,
   "id": "e62cc4b0",
   "metadata": {
    "execution": {
     "iopub.execute_input": "2025-04-28T06:37:55.835850Z",
     "iopub.status.busy": "2025-04-28T06:37:55.835484Z",
     "iopub.status.idle": "2025-04-28T06:37:56.294300Z",
     "shell.execute_reply": "2025-04-28T06:37:56.293350Z"
    },
    "papermill": {
     "duration": 0.465531,
     "end_time": "2025-04-28T06:37:56.296268",
     "exception": false,
     "start_time": "2025-04-28T06:37:55.830737",
     "status": "completed"
    },
    "tags": []
   },
   "outputs": [
    {
     "data": {
      "image/png": "[encoded data removed]",
      "text/plain": [
       "<Figure size 1200x600 with 1 Axes>"
      ]
     },
     "metadata": {},
     "output_type": "display_data"
    }
   ],
   "source": [
    "plt.figure(figsize=(12, 6))\n",
    "sns.heatmap(df.isnull(), cbar=False, cmap='viridis')\n",
    "plt.title('Missing Values Heatmap')\n",
    "plt.show()"
   ]
  },
  {
   "cell_type": "markdown",
   "id": "5d551ef8",
   "metadata": {
    "papermill": {
     "duration": 0.00421,
     "end_time": "2025-04-28T06:37:56.305091",
     "exception": false,
     "start_time": "2025-04-28T06:37:56.300881",
     "status": "completed"
    },
    "tags": []
   },
   "source": [
    "## Step 3: Clean the Data \n",
    "We drop columns with excessive missing values and impute missing values.\n"
   ]
  },
  {
   "cell_type": "code",
   "execution_count": 5,
   "id": "6a59409e",
   "metadata": {
    "execution": {
     "iopub.execute_input": "2025-04-28T06:37:56.315212Z",
     "iopub.status.busy": "2025-04-28T06:37:56.314894Z",
     "iopub.status.idle": "2025-04-28T06:37:56.340187Z",
     "shell.execute_reply": "2025-04-28T06:37:56.339309Z"
    },
    "papermill": {
     "duration": 0.032218,
     "end_time": "2025-04-28T06:37:56.341738",
     "exception": false,
     "start_time": "2025-04-28T06:37:56.309520",
     "status": "completed"
    },
    "tags": []
   },
   "outputs": [],
   "source": [
    "# Drop columns with too much missing data\n",
    "missing_threshold = 0.4  # if more than 40% missing\n",
    "cols_to_drop = df.columns[df.isnull().mean() > missing_threshold]\n",
    "df.drop(columns=cols_to_drop, inplace=True)\n",
    "\n",
    "# Separate numerical and categorical\n",
    "num_features = df.select_dtypes(include=[np.number]).columns.tolist()\n",
    "cat_features = df.select_dtypes(include=['object']).columns.tolist()\n",
    "\n",
    "# Imputers\n",
    "num_imputer = SimpleImputer(strategy='median')\n",
    "cat_imputer = SimpleImputer(strategy='most_frequent')\n",
    "\n",
    "df[num_features] = num_imputer.fit_transform(df[num_features])\n",
    "df[cat_features] = cat_imputer.fit_transform(df[cat_features])\n"
   ]
  },
  {
   "cell_type": "markdown",
   "id": "47e75f76",
   "metadata": {
    "papermill": {
     "duration": 0.004214,
     "end_time": "2025-04-28T06:37:56.350559",
     "exception": false,
     "start_time": "2025-04-28T06:37:56.346345",
     "status": "completed"
    },
    "tags": []
   },
   "source": [
    "## Step 4: Encode Categorical Variables\n",
    "We encode binary categorical features with LabelEncoder and nominal features with One-Hot Encoding.\n"
   ]
  },
  {
   "cell_type": "code",
   "execution_count": 6,
   "id": "581dfef2",
   "metadata": {
    "execution": {
     "iopub.execute_input": "2025-04-28T06:37:56.360545Z",
     "iopub.status.busy": "2025-04-28T06:37:56.360229Z",
     "iopub.status.idle": "2025-04-28T06:37:56.372680Z",
     "shell.execute_reply": "2025-04-28T06:37:56.371823Z"
    },
    "papermill": {
     "duration": 0.019229,
     "end_time": "2025-04-28T06:37:56.374129",
     "exception": false,
     "start_time": "2025-04-28T06:37:56.354900",
     "status": "completed"
    },
    "tags": []
   },
   "outputs": [],
   "source": [
    "# Label Encoding\n",
    "binary_cols = ['Sex']\n",
    "for col in binary_cols:\n",
    "    le = LabelEncoder()\n",
    "    df[col] = le.fit_transform(df[col])\n",
    "\n",
    "# One-hot Encoding for 'Embarked'\n",
    "df = pd.get_dummies(df, columns=['Embarked'], drop_first=True)\n"
   ]
  },
  {
   "cell_type": "markdown",
   "id": "ce5cc606",
   "metadata": {
    "papermill": {
     "duration": 0.004199,
     "end_time": "2025-04-28T06:37:56.382800",
     "exception": false,
     "start_time": "2025-04-28T06:37:56.378601",
     "status": "completed"
    },
    "tags": []
   },
   "source": [
    "## Step 5: Scale Numerical Features (RobustScaler)\n",
    "Scaling features to handle outliers better using RobustScaler.\n"
   ]
  },
  {
   "cell_type": "code",
   "execution_count": 7,
   "id": "6d6725c1",
   "metadata": {
    "execution": {
     "iopub.execute_input": "2025-04-28T06:37:56.393239Z",
     "iopub.status.busy": "2025-04-28T06:37:56.392410Z",
     "iopub.status.idle": "2025-04-28T06:37:56.406504Z",
     "shell.execute_reply": "2025-04-28T06:37:56.405574Z"
    },
    "papermill": {
     "duration": 0.020901,
     "end_time": "2025-04-28T06:37:56.408063",
     "exception": false,
     "start_time": "2025-04-28T06:37:56.387162",
     "status": "completed"
    },
    "tags": []
   },
   "outputs": [
    {
     "data": {
      "text/plain": [
       "['scaler.pkl']"
      ]
     },
     "execution_count": 7,
     "metadata": {},
     "output_type": "execute_result"
    }
   ],
   "source": [
    "scaler = RobustScaler()\n",
    "scale_cols = ['Age', 'Fare']\n",
    "\n",
    "df[scale_cols] = scaler.fit_transform(df[scale_cols])\n",
    "\n",
    "# Save the scaler for future inference\n",
    "joblib.dump(scaler, 'scaler.pkl')\n"
   ]
  },
  {
   "cell_type": "markdown",
   "id": "72366019",
   "metadata": {
    "papermill": {
     "duration": 0.004193,
     "end_time": "2025-04-28T06:37:56.417365",
     "exception": false,
     "start_time": "2025-04-28T06:37:56.413172",
     "status": "completed"
    },
    "tags": []
   },
   "source": [
    "## Step 6: Outlier Detection and Removal (Isolation Forest)\n",
    "Using machine learning to detect and remove outliers automatically.\n"
   ]
  },
  {
   "cell_type": "code",
   "execution_count": 8,
   "id": "78728754",
   "metadata": {
    "execution": {
     "iopub.execute_input": "2025-04-28T06:37:56.427621Z",
     "iopub.status.busy": "2025-04-28T06:37:56.427052Z",
     "iopub.status.idle": "2025-04-28T06:37:56.707927Z",
     "shell.execute_reply": "2025-04-28T06:37:56.706961Z"
    },
    "papermill": {
     "duration": 0.287551,
     "end_time": "2025-04-28T06:37:56.709304",
     "exception": false,
     "start_time": "2025-04-28T06:37:56.421753",
     "status": "completed"
    },
    "tags": []
   },
   "outputs": [
    {
     "name": "stdout",
     "output_type": "stream",
     "text": [
      "Data shape after outlier removal: (846, 12)\n"
     ]
    }
   ],
   "source": [
    "# Detect outliers\n",
    "iso = IsolationForest(contamination=0.05, random_state=42)\n",
    "outliers = iso.fit_predict(df[scale_cols])\n",
    "\n",
    "# -1 indicates outlier\n",
    "df['outlier'] = outliers\n",
    "\n",
    "# Keep only non-outliers\n",
    "df = df[df['outlier'] != -1]\n",
    "\n",
    "# Drop the helper column\n",
    "df.drop('outlier', axis=1, inplace=True)\n",
    "\n",
    "print(f\"Data shape after outlier removal: {df.shape}\")\n"
   ]
  },
  {
   "cell_type": "markdown",
   "id": "78741a76",
   "metadata": {
    "papermill": {
     "duration": 0.004917,
     "end_time": "2025-04-28T06:37:56.719079",
     "exception": false,
     "start_time": "2025-04-28T06:37:56.714162",
     "status": "completed"
    },
    "tags": []
   },
   "source": [
    "## Step 7: Save Cleaned Dataset\n",
    "We save the cleaned data to a new CSV file for further modeling.\n"
   ]
  },
  {
   "cell_type": "code",
   "execution_count": 9,
   "id": "e180c824",
   "metadata": {
    "execution": {
     "iopub.execute_input": "2025-04-28T06:37:56.731595Z",
     "iopub.status.busy": "2025-04-28T06:37:56.730949Z",
     "iopub.status.idle": "2025-04-28T06:37:56.747808Z",
     "shell.execute_reply": "2025-04-28T06:37:56.746906Z"
    },
    "papermill": {
     "duration": 0.024574,
     "end_time": "2025-04-28T06:37:56.749498",
     "exception": false,
     "start_time": "2025-04-28T06:37:56.724924",
     "status": "completed"
    },
    "tags": []
   },
   "outputs": [],
   "source": [
    "# Save cleaned dataset\n",
    "df.to_csv('cleaned_titanic.csv', index=False)"
   ]
  },
  {
   "cell_type": "markdown",
   "id": "07d3bdaf",
   "metadata": {
    "papermill": {
     "duration": 0.004488,
     "end_time": "2025-04-28T06:37:56.758807",
     "exception": false,
     "start_time": "2025-04-28T06:37:56.754319",
     "status": "completed"
    },
    "tags": []
   },
   "source": [
    "## Step 8: Compare Raw vs Cleaned Dataset\n",
    "Let's check how the dataset improved after cleaning.\n"
   ]
  },
  {
   "cell_type": "code",
   "execution_count": 10,
   "id": "aa742079",
   "metadata": {
    "execution": {
     "iopub.execute_input": "2025-04-28T06:37:56.769949Z",
     "iopub.status.busy": "2025-04-28T06:37:56.769184Z",
     "iopub.status.idle": "2025-04-28T06:37:56.802371Z",
     "shell.execute_reply": "2025-04-28T06:37:56.801531Z"
    },
    "papermill": {
     "duration": 0.040086,
     "end_time": "2025-04-28T06:37:56.803639",
     "exception": false,
     "start_time": "2025-04-28T06:37:56.763553",
     "status": "completed"
    },
    "tags": []
   },
   "outputs": [
    {
     "name": "stdout",
     "output_type": "stream",
     "text": [
      "Before Cleaning:\n"
     ]
    },
    {
     "data": {
      "text/html": [
       "<div>\n",
       "<style scoped>\n",
       "    .dataframe tbody tr th:only-of-type {\n",
       "        vertical-align: middle;\n",
       "    }\n",
       "\n",
       "    .dataframe tbody tr th {\n",
       "        vertical-align: top;\n",
       "    }\n",
       "\n",
       "    .dataframe thead th {\n",
       "        text-align: right;\n",
       "    }\n",
       "</style>\n",
       "<table border=\"1\" class=\"dataframe\">\n",
       "  <thead>\n",
       "    <tr style=\"text-align: right;\">\n",
       "      <th></th>\n",
       "      <th>PassengerId</th>\n",
       "      <th>Survived</th>\n",
       "      <th>Pclass</th>\n",
       "      <th>Age</th>\n",
       "      <th>SibSp</th>\n",
       "      <th>Parch</th>\n",
       "      <th>Fare</th>\n",
       "    </tr>\n",
       "  </thead>\n",
       "  <tbody>\n",
       "    <tr>\n",
       "      <th>count</th>\n",
       "      <td>891.000000</td>\n",
       "      <td>891.000000</td>\n",
       "      <td>891.000000</td>\n",
       "      <td>714.000000</td>\n",
       "      <td>891.000000</td>\n",
       "      <td>891.000000</td>\n",
       "      <td>891.000000</td>\n",
       "    </tr>\n",
       "    <tr>\n",
       "      <th>mean</th>\n",
       "      <td>446.000000</td>\n",
       "      <td>0.383838</td>\n",
       "      <td>2.308642</td>\n",
       "      <td>29.699118</td>\n",
       "      <td>0.523008</td>\n",
       "      <td>0.381594</td>\n",
       "      <td>32.204208</td>\n",
       "    </tr>\n",
       "    <tr>\n",
       "      <th>std</th>\n",
       "      <td>257.353842</td>\n",
       "      <td>0.486592</td>\n",
       "      <td>0.836071</td>\n",
       "      <td>14.526497</td>\n",
       "      <td>1.102743</td>\n",
       "      <td>0.806057</td>\n",
       "      <td>49.693429</td>\n",
       "    </tr>\n",
       "    <tr>\n",
       "      <th>min</th>\n",
       "      <td>1.000000</td>\n",
       "      <td>0.000000</td>\n",
       "      <td>1.000000</td>\n",
       "      <td>0.420000</td>\n",
       "      <td>0.000000</td>\n",
       "      <td>0.000000</td>\n",
       "      <td>0.000000</td>\n",
       "    </tr>\n",
       "    <tr>\n",
       "      <th>25%</th>\n",
       "      <td>223.500000</td>\n",
       "      <td>0.000000</td>\n",
       "      <td>2.000000</td>\n",
       "      <td>20.125000</td>\n",
       "      <td>0.000000</td>\n",
       "      <td>0.000000</td>\n",
       "      <td>7.910400</td>\n",
       "    </tr>\n",
       "    <tr>\n",
       "      <th>50%</th>\n",
       "      <td>446.000000</td>\n",
       "      <td>0.000000</td>\n",
       "      <td>3.000000</td>\n",
       "      <td>28.000000</td>\n",
       "      <td>0.000000</td>\n",
       "      <td>0.000000</td>\n",
       "      <td>14.454200</td>\n",
       "    </tr>\n",
       "    <tr>\n",
       "      <th>75%</th>\n",
       "      <td>668.500000</td>\n",
       "      <td>1.000000</td>\n",
       "      <td>3.000000</td>\n",
       "      <td>38.000000</td>\n",
       "      <td>1.000000</td>\n",
       "      <td>0.000000</td>\n",
       "      <td>31.000000</td>\n",
       "    </tr>\n",
       "    <tr>\n",
       "      <th>max</th>\n",
       "      <td>891.000000</td>\n",
       "      <td>1.000000</td>\n",
       "      <td>3.000000</td>\n",
       "      <td>80.000000</td>\n",
       "      <td>8.000000</td>\n",
       "      <td>6.000000</td>\n",
       "      <td>512.329200</td>\n",
       "    </tr>\n",
       "  </tbody>\n",
       "</table>\n",
       "</div>"
      ],
      "text/plain": [
       "       PassengerId    Survived      Pclass         Age       SibSp  \\\n",
       "count   891.000000  891.000000  891.000000  714.000000  891.000000   \n",
       "mean    446.000000    0.383838    2.308642   29.699118    0.523008   \n",
       "std     257.353842    0.486592    0.836071   14.526497    1.102743   \n",
       "min       1.000000    0.000000    1.000000    0.420000    0.000000   \n",
       "25%     223.500000    0.000000    2.000000   20.125000    0.000000   \n",
       "50%     446.000000    0.000000    3.000000   28.000000    0.000000   \n",
       "75%     668.500000    1.000000    3.000000   38.000000    1.000000   \n",
       "max     891.000000    1.000000    3.000000   80.000000    8.000000   \n",
       "\n",
       "            Parch        Fare  \n",
       "count  891.000000  891.000000  \n",
       "mean     0.381594   32.204208  \n",
       "std      0.806057   49.693429  \n",
       "min      0.000000    0.000000  \n",
       "25%      0.000000    7.910400  \n",
       "50%      0.000000   14.454200  \n",
       "75%      0.000000   31.000000  \n",
       "max      6.000000  512.329200  "
      ]
     },
     "execution_count": 10,
     "metadata": {},
     "output_type": "execute_result"
    }
   ],
   "source": [
    "print(\"Before Cleaning:\")\n",
    "raw_df.describe()"
   ]
  },
  {
   "cell_type": "code",
   "execution_count": 11,
   "id": "1081aa5d",
   "metadata": {
    "execution": {
     "iopub.execute_input": "2025-04-28T06:37:56.814384Z",
     "iopub.status.busy": "2025-04-28T06:37:56.814080Z",
     "iopub.status.idle": "2025-04-28T06:37:56.838885Z",
     "shell.execute_reply": "2025-04-28T06:37:56.838001Z"
    },
    "papermill": {
     "duration": 0.031661,
     "end_time": "2025-04-28T06:37:56.840233",
     "exception": false,
     "start_time": "2025-04-28T06:37:56.808572",
     "status": "completed"
    },
    "tags": []
   },
   "outputs": [
    {
     "name": "stdout",
     "output_type": "stream",
     "text": [
      "\n",
      "After Cleaning:\n"
     ]
    },
    {
     "data": {
      "text/html": [
       "<div>\n",
       "<style scoped>\n",
       "    .dataframe tbody tr th:only-of-type {\n",
       "        vertical-align: middle;\n",
       "    }\n",
       "\n",
       "    .dataframe tbody tr th {\n",
       "        vertical-align: top;\n",
       "    }\n",
       "\n",
       "    .dataframe thead th {\n",
       "        text-align: right;\n",
       "    }\n",
       "</style>\n",
       "<table border=\"1\" class=\"dataframe\">\n",
       "  <thead>\n",
       "    <tr style=\"text-align: right;\">\n",
       "      <th></th>\n",
       "      <th>PassengerId</th>\n",
       "      <th>Survived</th>\n",
       "      <th>Pclass</th>\n",
       "      <th>Sex</th>\n",
       "      <th>Age</th>\n",
       "      <th>SibSp</th>\n",
       "      <th>Parch</th>\n",
       "      <th>Fare</th>\n",
       "    </tr>\n",
       "  </thead>\n",
       "  <tbody>\n",
       "    <tr>\n",
       "      <th>count</th>\n",
       "      <td>846.000000</td>\n",
       "      <td>846.000000</td>\n",
       "      <td>846.000000</td>\n",
       "      <td>846.000000</td>\n",
       "      <td>846.000000</td>\n",
       "      <td>846.000000</td>\n",
       "      <td>846.000000</td>\n",
       "      <td>846.000000</td>\n",
       "    </tr>\n",
       "    <tr>\n",
       "      <th>mean</th>\n",
       "      <td>444.222222</td>\n",
       "      <td>0.371158</td>\n",
       "      <td>2.369976</td>\n",
       "      <td>0.654846</td>\n",
       "      <td>0.066080</td>\n",
       "      <td>0.516548</td>\n",
       "      <td>0.352246</td>\n",
       "      <td>0.432145</td>\n",
       "    </tr>\n",
       "    <tr>\n",
       "      <th>std</th>\n",
       "      <td>258.001280</td>\n",
       "      <td>0.483401</td>\n",
       "      <td>0.804718</td>\n",
       "      <td>0.475700</td>\n",
       "      <td>0.932996</td>\n",
       "      <td>1.102589</td>\n",
       "      <td>0.785242</td>\n",
       "      <td>1.102545</td>\n",
       "    </tr>\n",
       "    <tr>\n",
       "      <th>min</th>\n",
       "      <td>1.000000</td>\n",
       "      <td>0.000000</td>\n",
       "      <td>1.000000</td>\n",
       "      <td>0.000000</td>\n",
       "      <td>-2.121538</td>\n",
       "      <td>0.000000</td>\n",
       "      <td>0.000000</td>\n",
       "      <td>-0.626005</td>\n",
       "    </tr>\n",
       "    <tr>\n",
       "      <th>25%</th>\n",
       "      <td>219.250000</td>\n",
       "      <td>0.000000</td>\n",
       "      <td>2.000000</td>\n",
       "      <td>0.000000</td>\n",
       "      <td>-0.461538</td>\n",
       "      <td>0.000000</td>\n",
       "      <td>0.000000</td>\n",
       "      <td>-0.284041</td>\n",
       "    </tr>\n",
       "    <tr>\n",
       "      <th>50%</th>\n",
       "      <td>446.000000</td>\n",
       "      <td>0.000000</td>\n",
       "      <td>3.000000</td>\n",
       "      <td>1.000000</td>\n",
       "      <td>0.000000</td>\n",
       "      <td>0.000000</td>\n",
       "      <td>0.000000</td>\n",
       "      <td>-0.062981</td>\n",
       "    </tr>\n",
       "    <tr>\n",
       "      <th>75%</th>\n",
       "      <td>664.750000</td>\n",
       "      <td>1.000000</td>\n",
       "      <td>3.000000</td>\n",
       "      <td>1.000000</td>\n",
       "      <td>0.461538</td>\n",
       "      <td>1.000000</td>\n",
       "      <td>0.000000</td>\n",
       "      <td>0.582331</td>\n",
       "    </tr>\n",
       "    <tr>\n",
       "      <th>max</th>\n",
       "      <td>891.000000</td>\n",
       "      <td>1.000000</td>\n",
       "      <td>3.000000</td>\n",
       "      <td>1.000000</td>\n",
       "      <td>2.923077</td>\n",
       "      <td>8.000000</td>\n",
       "      <td>6.000000</td>\n",
       "      <td>5.937556</td>\n",
       "    </tr>\n",
       "  </tbody>\n",
       "</table>\n",
       "</div>"
      ],
      "text/plain": [
       "       PassengerId    Survived      Pclass         Sex         Age  \\\n",
       "count   846.000000  846.000000  846.000000  846.000000  846.000000   \n",
       "mean    444.222222    0.371158    2.369976    0.654846    0.066080   \n",
       "std     258.001280    0.483401    0.804718    0.475700    0.932996   \n",
       "min       1.000000    0.000000    1.000000    0.000000   -2.121538   \n",
       "25%     219.250000    0.000000    2.000000    0.000000   -0.461538   \n",
       "50%     446.000000    0.000000    3.000000    1.000000    0.000000   \n",
       "75%     664.750000    1.000000    3.000000    1.000000    0.461538   \n",
       "max     891.000000    1.000000    3.000000    1.000000    2.923077   \n",
       "\n",
       "            SibSp       Parch        Fare  \n",
       "count  846.000000  846.000000  846.000000  \n",
       "mean     0.516548    0.352246    0.432145  \n",
       "std      1.102589    0.785242    1.102545  \n",
       "min      0.000000    0.000000   -0.626005  \n",
       "25%      0.000000    0.000000   -0.284041  \n",
       "50%      0.000000    0.000000   -0.062981  \n",
       "75%      1.000000    0.000000    0.582331  \n",
       "max      8.000000    6.000000    5.937556  "
      ]
     },
     "execution_count": 11,
     "metadata": {},
     "output_type": "execute_result"
    }
   ],
   "source": [
    "print(\"\\nAfter Cleaning:\")\n",
    "df.describe()"
   ]
  },
  {
   "cell_type": "markdown",
   "id": "85f3f7da",
   "metadata": {
    "papermill": {
     "duration": 0.004773,
     "end_time": "2025-04-28T06:37:56.850017",
     "exception": false,
     "start_time": "2025-04-28T06:37:56.845244",
     "status": "completed"
    },
    "tags": []
   },
   "source": [
    "## Step 9: Correlation Analysis\n",
    "We visualize feature correlations to understand relationships.\n"
   ]
  },
  {
   "cell_type": "code",
   "execution_count": 12,
   "id": "625813b1",
   "metadata": {
    "execution": {
     "iopub.execute_input": "2025-04-28T06:37:56.861168Z",
     "iopub.status.busy": "2025-04-28T06:37:56.860868Z",
     "iopub.status.idle": "2025-04-28T06:37:57.254347Z",
     "shell.execute_reply": "2025-04-28T06:37:57.253441Z"
    },
    "papermill": {
     "duration": 0.402228,
     "end_time": "2025-04-28T06:37:57.257199",
     "exception": false,
     "start_time": "2025-04-28T06:37:56.854971",
     "status": "completed"
    },
    "tags": []
   },
   "outputs": [
    {
     "data": {
      "image/png": "[encoded data removed]",
      "text/plain": [
       "<Figure size 1200x800 with 2 Axes>"
      ]
     },
     "metadata": {},
     "output_type": "display_data"
    }
   ],
   "source": [
    "plt.figure(figsize=(12, 8))\n",
    "sns.heatmap(df.select_dtypes(include=[np.number]).corr(), annot=True, cmap='coolwarm')\n",
    "plt.title('Feature Correlation Matrix')\n",
    "plt.show()\n"
   ]
  }
 ],
 "metadata": {
  "kaggle": {
   "accelerator": "none",
   "dataSources": [
    {
     "datasetId": 1818188,
     "sourceId": 2965537,
     "sourceType": "datasetVersion"
    }
   ],
   "dockerImageVersionId": 31012,
   "isGpuEnabled": false,
   "isInternetEnabled": true,
   "language": "python",
   "sourceType": "notebook"
  },
  "kernelspec": {
   "display_name": "Python 3",
   "language": "python",
   "name": "python3"
  },
  "language_info": {
   "codemirror_mode": {
    "name": "ipython",
    "version": 3
   },
   "file_extension": ".py",
   "mimetype": "text/x-python",
   "name": "python",
   "nbconvert_exporter": "python",
   "pygments_lexer": "ipython3",
   "version": "3.11.11"
  },
  "papermill": {
   "default_parameters": {},
   "duration": 11.173456,
   "end_time": "2025-04-28T06:37:57.983449",
   "environment_variables": {},
   "exception": null,
   "input_path": "__notebook__.ipynb",
   "output_path": "__notebook__.ipynb",
   "parameters": {},
   "start_time": "2025-04-28T06:37:46.809993",
   "version": "2.6.0"
  }
 },
 "nbformat": 4,
 "nbformat_minor": 5
}
